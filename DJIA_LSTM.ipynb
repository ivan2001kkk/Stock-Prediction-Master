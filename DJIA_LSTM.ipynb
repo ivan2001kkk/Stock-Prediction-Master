{
  "nbformat": 4,
  "nbformat_minor": 0,
  "metadata": {
    "colab": {
      "name": "DJIA LSTM.ipynb",
      "provenance": [],
      "collapsed_sections": []
    },
    "kernelspec": {
      "display_name": "Python 3",
      "name": "python3"
    },
    "language_info": {
      "name": "python"
    },
    "accelerator": "GPU"
  },
  "cells": [
    {
      "cell_type": "code",
      "metadata": {
        "id": "d-v7W82o-a24"
      },
      "source": [
        "import warnings\n",
        "warnings.filterwarnings('ignore')\n",
        "import numpy as np\n",
        "import pandas as pd\n",
        "import tensorflow as tf\n",
        "import matplotlib.pyplot as plt\n",
        "from sklearn.model_selection import train_test_split\n",
        "import requests\n",
        "import os\n",
        "from IPython.display import display"
      ],
      "execution_count": 1,
      "outputs": []
    },
    {
      "cell_type": "code",
      "metadata": {
        "id": "lxpIyWwGylOn"
      },
      "source": [
        "raw = pd.read_csv('./DJIA_table.csv')"
      ],
      "execution_count": 2,
      "outputs": []
    },
    {
      "cell_type": "code",
      "metadata": {
        "colab": {
          "base_uri": "https://localhost:8080/",
          "height": 204
        },
        "id": "dUZX0OqYyuhd",
        "outputId": "72723b37-7902-40bf-8081-59ba282b4656"
      },
      "source": [
        "raw.head(5)"
      ],
      "execution_count": 3,
      "outputs": [
        {
          "output_type": "execute_result",
          "data": {
            "text/html": [
              "<div>\n",
              "<style scoped>\n",
              "    .dataframe tbody tr th:only-of-type {\n",
              "        vertical-align: middle;\n",
              "    }\n",
              "\n",
              "    .dataframe tbody tr th {\n",
              "        vertical-align: top;\n",
              "    }\n",
              "\n",
              "    .dataframe thead th {\n",
              "        text-align: right;\n",
              "    }\n",
              "</style>\n",
              "<table border=\"1\" class=\"dataframe\">\n",
              "  <thead>\n",
              "    <tr style=\"text-align: right;\">\n",
              "      <th></th>\n",
              "      <th>Date</th>\n",
              "      <th>Open</th>\n",
              "      <th>High</th>\n",
              "      <th>Low</th>\n",
              "      <th>Close</th>\n",
              "      <th>Volume</th>\n",
              "      <th>Adj Close</th>\n",
              "    </tr>\n",
              "  </thead>\n",
              "  <tbody>\n",
              "    <tr>\n",
              "      <th>0</th>\n",
              "      <td>2016-07-01</td>\n",
              "      <td>17924.240234</td>\n",
              "      <td>18002.380859</td>\n",
              "      <td>17916.910156</td>\n",
              "      <td>17949.369141</td>\n",
              "      <td>82160000</td>\n",
              "      <td>17949.369141</td>\n",
              "    </tr>\n",
              "    <tr>\n",
              "      <th>1</th>\n",
              "      <td>2016-06-30</td>\n",
              "      <td>17712.759766</td>\n",
              "      <td>17930.609375</td>\n",
              "      <td>17711.800781</td>\n",
              "      <td>17929.990234</td>\n",
              "      <td>133030000</td>\n",
              "      <td>17929.990234</td>\n",
              "    </tr>\n",
              "    <tr>\n",
              "      <th>2</th>\n",
              "      <td>2016-06-29</td>\n",
              "      <td>17456.019531</td>\n",
              "      <td>17704.509766</td>\n",
              "      <td>17456.019531</td>\n",
              "      <td>17694.679688</td>\n",
              "      <td>106380000</td>\n",
              "      <td>17694.679688</td>\n",
              "    </tr>\n",
              "    <tr>\n",
              "      <th>3</th>\n",
              "      <td>2016-06-28</td>\n",
              "      <td>17190.509766</td>\n",
              "      <td>17409.720703</td>\n",
              "      <td>17190.509766</td>\n",
              "      <td>17409.720703</td>\n",
              "      <td>112190000</td>\n",
              "      <td>17409.720703</td>\n",
              "    </tr>\n",
              "    <tr>\n",
              "      <th>4</th>\n",
              "      <td>2016-06-27</td>\n",
              "      <td>17355.210938</td>\n",
              "      <td>17355.210938</td>\n",
              "      <td>17063.080078</td>\n",
              "      <td>17140.240234</td>\n",
              "      <td>138740000</td>\n",
              "      <td>17140.240234</td>\n",
              "    </tr>\n",
              "  </tbody>\n",
              "</table>\n",
              "</div>"
            ],
            "text/plain": [
              "         Date          Open  ...     Volume     Adj Close\n",
              "0  2016-07-01  17924.240234  ...   82160000  17949.369141\n",
              "1  2016-06-30  17712.759766  ...  133030000  17929.990234\n",
              "2  2016-06-29  17456.019531  ...  106380000  17694.679688\n",
              "3  2016-06-28  17190.509766  ...  112190000  17409.720703\n",
              "4  2016-06-27  17355.210938  ...  138740000  17140.240234\n",
              "\n",
              "[5 rows x 7 columns]"
            ]
          },
          "metadata": {},
          "execution_count": 3
        }
      ]
    },
    {
      "cell_type": "code",
      "metadata": {
        "colab": {
          "base_uri": "https://localhost:8080/",
          "height": 299
        },
        "id": "ShWkYZMcywuj",
        "outputId": "dacf3bb7-d511-4309-8768-b16091a8abf3"
      },
      "source": [
        "raw_x = raw.drop(columns={'Date', 'Close'})\n",
        "raw_y_open = raw[['Open']]\n",
        "raw_y_close = raw[['Adj Close']]\n",
        "display(raw_x.head(2))\n",
        "display(raw_y_open.head(2))\n",
        "display(raw_y_close.head(2))"
      ],
      "execution_count": 4,
      "outputs": [
        {
          "output_type": "display_data",
          "data": {
            "text/html": [
              "<div>\n",
              "<style scoped>\n",
              "    .dataframe tbody tr th:only-of-type {\n",
              "        vertical-align: middle;\n",
              "    }\n",
              "\n",
              "    .dataframe tbody tr th {\n",
              "        vertical-align: top;\n",
              "    }\n",
              "\n",
              "    .dataframe thead th {\n",
              "        text-align: right;\n",
              "    }\n",
              "</style>\n",
              "<table border=\"1\" class=\"dataframe\">\n",
              "  <thead>\n",
              "    <tr style=\"text-align: right;\">\n",
              "      <th></th>\n",
              "      <th>Open</th>\n",
              "      <th>High</th>\n",
              "      <th>Low</th>\n",
              "      <th>Volume</th>\n",
              "      <th>Adj Close</th>\n",
              "    </tr>\n",
              "  </thead>\n",
              "  <tbody>\n",
              "    <tr>\n",
              "      <th>0</th>\n",
              "      <td>17924.240234</td>\n",
              "      <td>18002.380859</td>\n",
              "      <td>17916.910156</td>\n",
              "      <td>82160000</td>\n",
              "      <td>17949.369141</td>\n",
              "    </tr>\n",
              "    <tr>\n",
              "      <th>1</th>\n",
              "      <td>17712.759766</td>\n",
              "      <td>17930.609375</td>\n",
              "      <td>17711.800781</td>\n",
              "      <td>133030000</td>\n",
              "      <td>17929.990234</td>\n",
              "    </tr>\n",
              "  </tbody>\n",
              "</table>\n",
              "</div>"
            ],
            "text/plain": [
              "           Open          High           Low     Volume     Adj Close\n",
              "0  17924.240234  18002.380859  17916.910156   82160000  17949.369141\n",
              "1  17712.759766  17930.609375  17711.800781  133030000  17929.990234"
            ]
          },
          "metadata": {}
        },
        {
          "output_type": "display_data",
          "data": {
            "text/html": [
              "<div>\n",
              "<style scoped>\n",
              "    .dataframe tbody tr th:only-of-type {\n",
              "        vertical-align: middle;\n",
              "    }\n",
              "\n",
              "    .dataframe tbody tr th {\n",
              "        vertical-align: top;\n",
              "    }\n",
              "\n",
              "    .dataframe thead th {\n",
              "        text-align: right;\n",
              "    }\n",
              "</style>\n",
              "<table border=\"1\" class=\"dataframe\">\n",
              "  <thead>\n",
              "    <tr style=\"text-align: right;\">\n",
              "      <th></th>\n",
              "      <th>Open</th>\n",
              "    </tr>\n",
              "  </thead>\n",
              "  <tbody>\n",
              "    <tr>\n",
              "      <th>0</th>\n",
              "      <td>17924.240234</td>\n",
              "    </tr>\n",
              "    <tr>\n",
              "      <th>1</th>\n",
              "      <td>17712.759766</td>\n",
              "    </tr>\n",
              "  </tbody>\n",
              "</table>\n",
              "</div>"
            ],
            "text/plain": [
              "           Open\n",
              "0  17924.240234\n",
              "1  17712.759766"
            ]
          },
          "metadata": {}
        },
        {
          "output_type": "display_data",
          "data": {
            "text/html": [
              "<div>\n",
              "<style scoped>\n",
              "    .dataframe tbody tr th:only-of-type {\n",
              "        vertical-align: middle;\n",
              "    }\n",
              "\n",
              "    .dataframe tbody tr th {\n",
              "        vertical-align: top;\n",
              "    }\n",
              "\n",
              "    .dataframe thead th {\n",
              "        text-align: right;\n",
              "    }\n",
              "</style>\n",
              "<table border=\"1\" class=\"dataframe\">\n",
              "  <thead>\n",
              "    <tr style=\"text-align: right;\">\n",
              "      <th></th>\n",
              "      <th>Adj Close</th>\n",
              "    </tr>\n",
              "  </thead>\n",
              "  <tbody>\n",
              "    <tr>\n",
              "      <th>0</th>\n",
              "      <td>17949.369141</td>\n",
              "    </tr>\n",
              "    <tr>\n",
              "      <th>1</th>\n",
              "      <td>17929.990234</td>\n",
              "    </tr>\n",
              "  </tbody>\n",
              "</table>\n",
              "</div>"
            ],
            "text/plain": [
              "      Adj Close\n",
              "0  17949.369141\n",
              "1  17929.990234"
            ]
          },
          "metadata": {}
        }
      ]
    },
    {
      "cell_type": "code",
      "metadata": {
        "colab": {
          "base_uri": "https://localhost:8080/"
        },
        "id": "a6Tg6LI30DbA",
        "outputId": "935d9d90-a927-43af-cafb-e124ba036d3a"
      },
      "source": [
        "# Data set preprocessing\n",
        "time_step = 60\n",
        "total_days = len(raw_y_open)\n",
        "raw_x = raw_x.values\n",
        "raw_y_open = raw_y_open.values\n",
        "raw_y_close = raw_y_close.values\n",
        "\n",
        "x = []\n",
        "y_open = []\n",
        "y_close = []\n",
        "\n",
        "for i in range(time_step, total_days):\n",
        "  x.append(raw_x[i-60:i])\n",
        "  y_open.append(raw_y_open[i])\n",
        "  y_close.append(raw_y_close[i])\n",
        "\n",
        "x = np.array(x)\n",
        "y_open = np.array(y_open)\n",
        "y_close = np.array(y_close)\n",
        "\n",
        "print(x.shape, y_open.shape, y_close.shape)"
      ],
      "execution_count": 6,
      "outputs": [
        {
          "output_type": "stream",
          "name": "stdout",
          "text": [
            "(1929, 60, 5) (1929, 1) (1929, 1)\n"
          ]
        }
      ]
    },
    {
      "cell_type": "code",
      "metadata": {
        "id": "hDCipwRF3jHx"
      },
      "source": [
        "def split_test(array, spilt_day):\n",
        "    \n",
        "    train = array[:-spilt_day, :]\n",
        "    test = array[-spilt_day:, :]\n",
        "    \n",
        "    return train, test"
      ],
      "execution_count": 7,
      "outputs": []
    },
    {
      "cell_type": "code",
      "metadata": {
        "colab": {
          "base_uri": "https://localhost:8080/"
        },
        "id": "kIXE7gnq4E5O",
        "outputId": "79244da9-be39-4db8-cf8a-6dab1574d1fd"
      },
      "source": [
        "split_day = 30\n",
        "x_train, x_test = split_test(x, split_day)\n",
        "y_open_train, y_open_test = split_test(y_open, split_day)\n",
        "y_close_train, y_close_test = split_test(y_close, split_day)\n",
        "\n",
        "print(x_train.shape, x_test.shape, y_open_train.shape, y_open_test.shape, y_close_train.shape, y_close_test.shape)"
      ],
      "execution_count": 8,
      "outputs": [
        {
          "output_type": "stream",
          "name": "stdout",
          "text": [
            "(1899, 60, 5) (30, 60, 5) (1899, 1) (30, 1) (1899, 1) (30, 1)\n"
          ]
        }
      ]
    },
    {
      "cell_type": "code",
      "metadata": {
        "colab": {
          "base_uri": "https://localhost:8080/"
        },
        "id": "3-HFpO8B48PX",
        "outputId": "56a99003-6ccb-49be-eaa1-6a9ef4198ebb"
      },
      "source": [
        "# Model definition\n",
        "\n",
        "# Hyperparameters\n",
        "dropout_rate = 0.5\n",
        "learning_rate = 0.0001\n",
        "\n",
        "open_price_inputs = tf.keras.Input(shape=(1,), name='open_price')\n",
        "inputs = tf.keras.Input(shape=(60, 5,), name='inputs')\n",
        "y = tf.keras.layers.LSTM(units=50, return_sequences=True)(inputs)\n",
        "y = tf.keras.layers.Dropout(dropout_rate)(y)\n",
        "y = tf.keras.layers.LSTM(units=50, return_sequences=True)(y)\n",
        "y = tf.keras.layers.Dropout(dropout_rate)(y)\n",
        "y = tf.keras.layers.LSTM(units=50)(y)\n",
        "y = tf.keras.layers.Dropout(dropout_rate)(y)\n",
        "y = tf.keras.layers.Dense(1)(y)\n",
        "y = tf.keras.layers.Multiply()([y, open_price_inputs])\n",
        "y = tf.keras.layers.Dense(100)(y)\n",
        "y = tf.keras.layers.Dropout(dropout_rate)(y)\n",
        "y = tf.keras.layers.Dense(1)(y)\n",
        "\n",
        "LSTM_Model = tf.keras.Model(inputs=[inputs, open_price_inputs], outputs=y, name=\"LSTM_Model\")\n",
        "LSTM_Model.summary()"
      ],
      "execution_count": 9,
      "outputs": [
        {
          "output_type": "stream",
          "name": "stdout",
          "text": [
            "Model: \"LSTM_Model\"\n",
            "__________________________________________________________________________________________________\n",
            "Layer (type)                    Output Shape         Param #     Connected to                     \n",
            "==================================================================================================\n",
            "inputs (InputLayer)             [(None, 60, 5)]      0                                            \n",
            "__________________________________________________________________________________________________\n",
            "lstm (LSTM)                     (None, 60, 50)       11200       inputs[0][0]                     \n",
            "__________________________________________________________________________________________________\n",
            "dropout (Dropout)               (None, 60, 50)       0           lstm[0][0]                       \n",
            "__________________________________________________________________________________________________\n",
            "lstm_1 (LSTM)                   (None, 60, 50)       20200       dropout[0][0]                    \n",
            "__________________________________________________________________________________________________\n",
            "dropout_1 (Dropout)             (None, 60, 50)       0           lstm_1[0][0]                     \n",
            "__________________________________________________________________________________________________\n",
            "lstm_2 (LSTM)                   (None, 50)           20200       dropout_1[0][0]                  \n",
            "__________________________________________________________________________________________________\n",
            "dropout_2 (Dropout)             (None, 50)           0           lstm_2[0][0]                     \n",
            "__________________________________________________________________________________________________\n",
            "dense (Dense)                   (None, 1)            51          dropout_2[0][0]                  \n",
            "__________________________________________________________________________________________________\n",
            "open_price (InputLayer)         [(None, 1)]          0                                            \n",
            "__________________________________________________________________________________________________\n",
            "multiply (Multiply)             (None, 1)            0           dense[0][0]                      \n",
            "                                                                 open_price[0][0]                 \n",
            "__________________________________________________________________________________________________\n",
            "dense_1 (Dense)                 (None, 100)          200         multiply[0][0]                   \n",
            "__________________________________________________________________________________________________\n",
            "dropout_3 (Dropout)             (None, 100)          0           dense_1[0][0]                    \n",
            "__________________________________________________________________________________________________\n",
            "dense_2 (Dense)                 (None, 1)            101         dropout_3[0][0]                  \n",
            "==================================================================================================\n",
            "Total params: 51,952\n",
            "Trainable params: 51,952\n",
            "Non-trainable params: 0\n",
            "__________________________________________________________________________________________________\n"
          ]
        }
      ]
    },
    {
      "cell_type": "code",
      "metadata": {
        "id": "WlrSkVIQ8e90"
      },
      "source": [
        "def RootMeanSquaredError(y_actual, y_predict):\n",
        "  mse = tf.keras.losses.MeanSquaredError()\n",
        "  return tf.sqrt(mse(y_actual, y_predict))\n",
        "\n",
        "LSTM_Model.compile(\n",
        "    loss=tf.keras.losses.MeanSquaredError(),\n",
        "    optimizer=tf.keras.optimizers.Adam(learning_rate=learning_rate),\n",
        "    metrics=[tf.keras.metrics.RootMeanSquaredError()])"
      ],
      "execution_count": 10,
      "outputs": []
    },
    {
      "cell_type": "code",
      "metadata": {
        "colab": {
          "base_uri": "https://localhost:8080/"
        },
        "id": "FM-YedFO82zU",
        "outputId": "9a26f0d3-6968-4604-afaa-98e5543b3caf"
      },
      "source": [
        "history = LSTM_Model.fit({'inputs': x_train, 'open_price': y_open_train}, y_close_train, batch_size=16, epochs=50, validation_split=0.1, verbose=1)"
      ],
      "execution_count": 11,
      "outputs": [
        {
          "output_type": "stream",
          "name": "stdout",
          "text": [
            "Epoch 1/50\n",
            "107/107 [==============================] - 9s 19ms/step - loss: 113776864.0000 - root_mean_squared_error: 10666.6240 - val_loss: 412989.2500 - val_root_mean_squared_error: 642.6424\n",
            "Epoch 2/50\n",
            "107/107 [==============================] - 1s 11ms/step - loss: 40272336.0000 - root_mean_squared_error: 6346.0488 - val_loss: 364978.4688 - val_root_mean_squared_error: 604.1345\n",
            "Epoch 3/50\n",
            "107/107 [==============================] - 1s 11ms/step - loss: 30382426.0000 - root_mean_squared_error: 5512.0254 - val_loss: 140159.8125 - val_root_mean_squared_error: 374.3792\n",
            "Epoch 4/50\n",
            "107/107 [==============================] - 1s 11ms/step - loss: 26760118.0000 - root_mean_squared_error: 5173.0181 - val_loss: 163824.2812 - val_root_mean_squared_error: 404.7521\n",
            "Epoch 5/50\n",
            "107/107 [==============================] - 1s 11ms/step - loss: 23720476.0000 - root_mean_squared_error: 4870.3672 - val_loss: 172451.8281 - val_root_mean_squared_error: 415.2732\n",
            "Epoch 6/50\n",
            "107/107 [==============================] - 1s 11ms/step - loss: 22123784.0000 - root_mean_squared_error: 4703.5928 - val_loss: 259650.7656 - val_root_mean_squared_error: 509.5594\n",
            "Epoch 7/50\n",
            "107/107 [==============================] - 1s 11ms/step - loss: 19802734.0000 - root_mean_squared_error: 4450.0264 - val_loss: 84970.5547 - val_root_mean_squared_error: 291.4971\n",
            "Epoch 8/50\n",
            "107/107 [==============================] - 1s 11ms/step - loss: 17696078.0000 - root_mean_squared_error: 4206.6704 - val_loss: 187227.2812 - val_root_mean_squared_error: 432.6977\n",
            "Epoch 9/50\n",
            "107/107 [==============================] - 1s 12ms/step - loss: 17939632.0000 - root_mean_squared_error: 4235.5200 - val_loss: 132855.5469 - val_root_mean_squared_error: 364.4936\n",
            "Epoch 10/50\n",
            "107/107 [==============================] - 1s 11ms/step - loss: 16587566.0000 - root_mean_squared_error: 4072.7834 - val_loss: 235439.7656 - val_root_mean_squared_error: 485.2214\n",
            "Epoch 11/50\n",
            "107/107 [==============================] - 1s 11ms/step - loss: 15725090.0000 - root_mean_squared_error: 3965.4873 - val_loss: 379899.0625 - val_root_mean_squared_error: 616.3595\n",
            "Epoch 12/50\n",
            "107/107 [==============================] - 1s 10ms/step - loss: 13988534.0000 - root_mean_squared_error: 3740.1250 - val_loss: 272119.6250 - val_root_mean_squared_error: 521.6509\n",
            "Epoch 13/50\n",
            "107/107 [==============================] - 1s 11ms/step - loss: 13838934.0000 - root_mean_squared_error: 3720.0718 - val_loss: 145750.4688 - val_root_mean_squared_error: 381.7728\n",
            "Epoch 14/50\n",
            "107/107 [==============================] - 1s 11ms/step - loss: 13718228.0000 - root_mean_squared_error: 3703.8125 - val_loss: 112257.6641 - val_root_mean_squared_error: 335.0487\n",
            "Epoch 15/50\n",
            "107/107 [==============================] - 1s 11ms/step - loss: 12949391.0000 - root_mean_squared_error: 3598.5261 - val_loss: 244096.1250 - val_root_mean_squared_error: 494.0609\n",
            "Epoch 16/50\n",
            "107/107 [==============================] - 1s 11ms/step - loss: 12292620.0000 - root_mean_squared_error: 3506.0833 - val_loss: 172633.7656 - val_root_mean_squared_error: 415.4922\n",
            "Epoch 17/50\n",
            "107/107 [==============================] - 1s 11ms/step - loss: 12846164.0000 - root_mean_squared_error: 3584.1545 - val_loss: 121890.9297 - val_root_mean_squared_error: 349.1288\n",
            "Epoch 18/50\n",
            "107/107 [==============================] - 1s 11ms/step - loss: 12054818.0000 - root_mean_squared_error: 3472.0049 - val_loss: 64262.2930 - val_root_mean_squared_error: 253.5001\n",
            "Epoch 19/50\n",
            "107/107 [==============================] - 1s 11ms/step - loss: 11763436.0000 - root_mean_squared_error: 3429.7866 - val_loss: 131417.3750 - val_root_mean_squared_error: 362.5153\n",
            "Epoch 20/50\n",
            "107/107 [==============================] - 1s 11ms/step - loss: 11826471.0000 - root_mean_squared_error: 3438.9636 - val_loss: 319476.1562 - val_root_mean_squared_error: 565.2222\n",
            "Epoch 21/50\n",
            "107/107 [==============================] - 1s 11ms/step - loss: 10842936.0000 - root_mean_squared_error: 3292.8613 - val_loss: 58958.8516 - val_root_mean_squared_error: 242.8144\n",
            "Epoch 22/50\n",
            "107/107 [==============================] - 1s 11ms/step - loss: 10565971.0000 - root_mean_squared_error: 3250.5339 - val_loss: 101092.9688 - val_root_mean_squared_error: 317.9512\n",
            "Epoch 23/50\n",
            "107/107 [==============================] - 1s 11ms/step - loss: 10781846.0000 - root_mean_squared_error: 3283.5720 - val_loss: 147263.1719 - val_root_mean_squared_error: 383.7488\n",
            "Epoch 24/50\n",
            "107/107 [==============================] - 1s 12ms/step - loss: 10245494.0000 - root_mean_squared_error: 3200.8582 - val_loss: 122193.0312 - val_root_mean_squared_error: 349.5612\n",
            "Epoch 25/50\n",
            "107/107 [==============================] - 1s 11ms/step - loss: 9154635.0000 - root_mean_squared_error: 3025.6626 - val_loss: 75489.6953 - val_root_mean_squared_error: 274.7539\n",
            "Epoch 26/50\n",
            "107/107 [==============================] - 1s 11ms/step - loss: 9893596.0000 - root_mean_squared_error: 3145.4087 - val_loss: 184611.5781 - val_root_mean_squared_error: 429.6645\n",
            "Epoch 27/50\n",
            "107/107 [==============================] - 1s 11ms/step - loss: 9239652.0000 - root_mean_squared_error: 3039.6794 - val_loss: 133293.8125 - val_root_mean_squared_error: 365.0942\n",
            "Epoch 28/50\n",
            "107/107 [==============================] - 1s 11ms/step - loss: 8910589.0000 - root_mean_squared_error: 2985.0610 - val_loss: 70005.2266 - val_root_mean_squared_error: 264.5850\n",
            "Epoch 29/50\n",
            "107/107 [==============================] - 1s 11ms/step - loss: 9121017.0000 - root_mean_squared_error: 3020.1021 - val_loss: 58591.7266 - val_root_mean_squared_error: 242.0573\n",
            "Epoch 30/50\n",
            "107/107 [==============================] - 1s 11ms/step - loss: 8457139.0000 - root_mean_squared_error: 2908.1160 - val_loss: 58911.3633 - val_root_mean_squared_error: 242.7166\n",
            "Epoch 31/50\n",
            "107/107 [==============================] - 1s 11ms/step - loss: 9017785.0000 - root_mean_squared_error: 3002.9626 - val_loss: 187945.6406 - val_root_mean_squared_error: 433.5270\n",
            "Epoch 32/50\n",
            "107/107 [==============================] - 1s 11ms/step - loss: 8666882.0000 - root_mean_squared_error: 2943.9568 - val_loss: 80738.2734 - val_root_mean_squared_error: 284.1448\n",
            "Epoch 33/50\n",
            "107/107 [==============================] - 1s 11ms/step - loss: 8316907.5000 - root_mean_squared_error: 2883.9048 - val_loss: 116305.9141 - val_root_mean_squared_error: 341.0365\n",
            "Epoch 34/50\n",
            "107/107 [==============================] - 1s 11ms/step - loss: 8353101.0000 - root_mean_squared_error: 2890.1731 - val_loss: 115967.7500 - val_root_mean_squared_error: 340.5404\n",
            "Epoch 35/50\n",
            "107/107 [==============================] - 1s 11ms/step - loss: 7992787.0000 - root_mean_squared_error: 2827.1519 - val_loss: 60006.9375 - val_root_mean_squared_error: 244.9631\n",
            "Epoch 36/50\n",
            "107/107 [==============================] - 1s 11ms/step - loss: 8216523.5000 - root_mean_squared_error: 2866.4478 - val_loss: 68541.4766 - val_root_mean_squared_error: 261.8043\n",
            "Epoch 37/50\n",
            "107/107 [==============================] - 1s 11ms/step - loss: 7877030.0000 - root_mean_squared_error: 2806.6047 - val_loss: 63755.5039 - val_root_mean_squared_error: 252.4985\n",
            "Epoch 38/50\n",
            "107/107 [==============================] - 1s 11ms/step - loss: 8201493.5000 - root_mean_squared_error: 2863.8250 - val_loss: 78127.7812 - val_root_mean_squared_error: 279.5135\n",
            "Epoch 39/50\n",
            "107/107 [==============================] - 1s 11ms/step - loss: 7738613.5000 - root_mean_squared_error: 2781.8364 - val_loss: 65401.7266 - val_root_mean_squared_error: 255.7376\n",
            "Epoch 40/50\n",
            "107/107 [==============================] - 1s 11ms/step - loss: 7427467.0000 - root_mean_squared_error: 2725.3379 - val_loss: 73527.7266 - val_root_mean_squared_error: 271.1600\n",
            "Epoch 41/50\n",
            "107/107 [==============================] - 1s 12ms/step - loss: 7360436.5000 - root_mean_squared_error: 2713.0125 - val_loss: 60451.6367 - val_root_mean_squared_error: 245.8691\n",
            "Epoch 42/50\n",
            "107/107 [==============================] - 1s 12ms/step - loss: 6845421.0000 - root_mean_squared_error: 2616.3755 - val_loss: 58373.4297 - val_root_mean_squared_error: 241.6059\n",
            "Epoch 43/50\n",
            "107/107 [==============================] - 1s 11ms/step - loss: 6947056.5000 - root_mean_squared_error: 2635.7268 - val_loss: 134251.0000 - val_root_mean_squared_error: 366.4028\n",
            "Epoch 44/50\n",
            "107/107 [==============================] - 1s 11ms/step - loss: 7181645.5000 - root_mean_squared_error: 2679.8591 - val_loss: 60069.5312 - val_root_mean_squared_error: 245.0909\n",
            "Epoch 45/50\n",
            "107/107 [==============================] - 1s 11ms/step - loss: 6511363.0000 - root_mean_squared_error: 2551.7373 - val_loss: 61685.0352 - val_root_mean_squared_error: 248.3647\n",
            "Epoch 46/50\n",
            "107/107 [==============================] - 1s 11ms/step - loss: 6832236.0000 - root_mean_squared_error: 2613.8545 - val_loss: 73738.9297 - val_root_mean_squared_error: 271.5491\n",
            "Epoch 47/50\n",
            "107/107 [==============================] - 1s 12ms/step - loss: 6301724.0000 - root_mean_squared_error: 2510.3235 - val_loss: 58664.3438 - val_root_mean_squared_error: 242.2072\n",
            "Epoch 48/50\n",
            "107/107 [==============================] - 1s 11ms/step - loss: 6461410.5000 - root_mean_squared_error: 2541.9304 - val_loss: 63858.5352 - val_root_mean_squared_error: 252.7025\n",
            "Epoch 49/50\n",
            "107/107 [==============================] - 1s 11ms/step - loss: 6121186.0000 - root_mean_squared_error: 2474.1030 - val_loss: 59243.9805 - val_root_mean_squared_error: 243.4009\n",
            "Epoch 50/50\n",
            "107/107 [==============================] - 1s 11ms/step - loss: 6017286.5000 - root_mean_squared_error: 2453.0159 - val_loss: 85204.5000 - val_root_mean_squared_error: 291.8981\n"
          ]
        }
      ]
    },
    {
      "cell_type": "code",
      "metadata": {
        "colab": {
          "base_uri": "https://localhost:8080/",
          "height": 607
        },
        "id": "fUdq8dTL9xaE",
        "outputId": "10215a63-6032-48cf-b08b-8f81f5a0b35e"
      },
      "source": [
        "background = raw['Adj Close'].iloc[-100:].to_frame()\n",
        "background.index = np.arange(100)\n",
        "predicted_close_price = LSTM_Model.predict([x_test, y_open_test])\n",
        "predicted_close_price = np.concatenate([background.values[:70], predicted_close_price], axis=0)\n",
        "\n",
        "# plot acutal vs prediction\n",
        "plt.figure(figsize=(15,10))\n",
        "plt.plot(predicted_close_price)\n",
        "plt.plot(background)\n",
        "plt.title('acutal vs prediction')\n",
        "# plt.ylabel('predicted_close_price')\n",
        "# plt.xlabel('epoch')\n",
        "plt.legend(['predicted', 'actual'], loc='upper right')\n",
        "plt.show()"
      ],
      "execution_count": 12,
      "outputs": [
        {
          "output_type": "display_data",
          "data": {
            "image/png": "[encoded data removed]",
            "text/plain": [
              "<Figure size 1080x720 with 1 Axes>"
            ]
          },
          "metadata": {
            "needs_background": "light"
          }
        }
      ]
    },
    {
      "cell_type": "code",
      "metadata": {
        "colab": {
          "base_uri": "https://localhost:8080/"
        },
        "id": "6lw8p0tIeBxa",
        "outputId": "ca2c75f3-b766-4ca3-a8a2-248f7c3ac342"
      },
      "source": [
        "x_test[0].shape"
      ],
      "execution_count": 14,
      "outputs": [
        {
          "output_type": "execute_result",
          "data": {
            "text/plain": [
              "(60, 5)"
            ]
          },
          "metadata": {},
          "execution_count": 14
        }
      ]
    },
    {
      "cell_type": "code",
      "metadata": {
        "id": "6IafbelverzX"
      },
      "source": [
        "# Areas of improvement: (2021-09-02)\n",
        "# Use more sofisticated architecture/try out new techniques eg. deep RNN, GRU, diminishing learning rate, RMSprop, cross-validation\n",
        "# Next-30-days prediction (sliding window)"
      ],
      "execution_count": null,
      "outputs": []
    }
  ]
}