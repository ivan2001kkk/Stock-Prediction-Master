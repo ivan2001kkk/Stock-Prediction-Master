{
  "nbformat": 4,
  "nbformat_minor": 0,
  "metadata": {
    "colab": {
      "name": "DJIA LSTM.ipynb",
      "provenance": [],
      "collapsed_sections": []
    },
    "kernelspec": {
      "display_name": "Python 3",
      "name": "python3"
    },
    "language_info": {
      "name": "python"
    },
    "accelerator": "GPU"
  },
  "cells": [
    {
      "cell_type": "code",
      "metadata": {
        "id": "d-v7W82o-a24"
      },
      "source": [
        "import warnings\n",
        "warnings.filterwarnings('ignore')\n",
        "import numpy as np\n",
        "import pandas as pd\n",
        "import tensorflow as tf\n",
        "import matplotlib.pyplot as plt\n",
        "from sklearn.model_selection import train_test_split\n",
        "import requests\n",
        "import os\n",
        "from IPython.display import display"
      ],
      "execution_count": null,
      "outputs": []
    },
    {
      "cell_type": "code",
      "metadata": {
        "id": "lxpIyWwGylOn"
      },
      "source": [
        "raw = pd.read_csv('./DJIA_table.csv').sort_values('Date').set_index('Date')"
      ],
      "execution_count": null,
      "outputs": []
    },
    {
      "cell_type": "code",
      "metadata": {
        "colab": {
          "base_uri": "https://localhost:8080/",
          "height": 235
        },
        "id": "dUZX0OqYyuhd",
        "outputId": "8c693946-a859-4fe2-d38a-aabe81ae8d93"
      },
      "source": [
        "raw.head(5)"
      ],
      "execution_count": null,
      "outputs": [
        {
          "output_type": "execute_result",
          "data": {
            "text/html": [
              "<div>\n",
              "<style scoped>\n",
              "    .dataframe tbody tr th:only-of-type {\n",
              "        vertical-align: middle;\n",
              "    }\n",
              "\n",
              "    .dataframe tbody tr th {\n",
              "        vertical-align: top;\n",
              "    }\n",
              "\n",
              "    .dataframe thead th {\n",
              "        text-align: right;\n",
              "    }\n",
              "</style>\n",
              "<table border=\"1\" class=\"dataframe\">\n",
              "  <thead>\n",
              "    <tr style=\"text-align: right;\">\n",
              "      <th></th>\n",
              "      <th>Open</th>\n",
              "      <th>High</th>\n",
              "      <th>Low</th>\n",
              "      <th>Close</th>\n",
              "      <th>Volume</th>\n",
              "      <th>Adj Close</th>\n",
              "    </tr>\n",
              "    <tr>\n",
              "      <th>Date</th>\n",
              "      <th></th>\n",
              "      <th></th>\n",
              "      <th></th>\n",
              "      <th></th>\n",
              "      <th></th>\n",
              "      <th></th>\n",
              "    </tr>\n",
              "  </thead>\n",
              "  <tbody>\n",
              "    <tr>\n",
              "      <th>2008-08-08</th>\n",
              "      <td>11432.089844</td>\n",
              "      <td>11759.959961</td>\n",
              "      <td>11388.040039</td>\n",
              "      <td>11734.320312</td>\n",
              "      <td>212830000</td>\n",
              "      <td>11734.320312</td>\n",
              "    </tr>\n",
              "    <tr>\n",
              "      <th>2008-08-11</th>\n",
              "      <td>11729.669922</td>\n",
              "      <td>11867.110352</td>\n",
              "      <td>11675.530273</td>\n",
              "      <td>11782.349609</td>\n",
              "      <td>183190000</td>\n",
              "      <td>11782.349609</td>\n",
              "    </tr>\n",
              "    <tr>\n",
              "      <th>2008-08-12</th>\n",
              "      <td>11781.700195</td>\n",
              "      <td>11782.349609</td>\n",
              "      <td>11601.519531</td>\n",
              "      <td>11642.469727</td>\n",
              "      <td>173590000</td>\n",
              "      <td>11642.469727</td>\n",
              "    </tr>\n",
              "    <tr>\n",
              "      <th>2008-08-13</th>\n",
              "      <td>11632.809570</td>\n",
              "      <td>11633.780273</td>\n",
              "      <td>11453.339844</td>\n",
              "      <td>11532.959961</td>\n",
              "      <td>182550000</td>\n",
              "      <td>11532.959961</td>\n",
              "    </tr>\n",
              "    <tr>\n",
              "      <th>2008-08-14</th>\n",
              "      <td>11532.070312</td>\n",
              "      <td>11718.280273</td>\n",
              "      <td>11450.889648</td>\n",
              "      <td>11615.929688</td>\n",
              "      <td>159790000</td>\n",
              "      <td>11615.929688</td>\n",
              "    </tr>\n",
              "  </tbody>\n",
              "</table>\n",
              "</div>"
            ],
            "text/plain": [
              "                    Open          High  ...     Volume     Adj Close\n",
              "Date                                    ...                         \n",
              "2008-08-08  11432.089844  11759.959961  ...  212830000  11734.320312\n",
              "2008-08-11  11729.669922  11867.110352  ...  183190000  11782.349609\n",
              "2008-08-12  11781.700195  11782.349609  ...  173590000  11642.469727\n",
              "2008-08-13  11632.809570  11633.780273  ...  182550000  11532.959961\n",
              "2008-08-14  11532.070312  11718.280273  ...  159790000  11615.929688\n",
              "\n",
              "[5 rows x 6 columns]"
            ]
          },
          "metadata": {},
          "execution_count": 3
        }
      ]
    },
    {
      "cell_type": "code",
      "metadata": {
        "colab": {
          "base_uri": "https://localhost:8080/",
          "height": 392
        },
        "id": "ShWkYZMcywuj",
        "outputId": "eaf6bfbe-a0d3-4be6-bf7c-d2619bc4cc4b"
      },
      "source": [
        "raw_x = raw.drop(columns={'Close'})\n",
        "raw_y_open = raw[['Open']]\n",
        "raw_y_close = raw[['Adj Close']]\n",
        "display(raw_x.head(2))\n",
        "display(raw_y_open.head(2))\n",
        "display(raw_y_close.head(2))"
      ],
      "execution_count": null,
      "outputs": [
        {
          "output_type": "display_data",
          "data": {
            "text/html": [
              "<div>\n",
              "<style scoped>\n",
              "    .dataframe tbody tr th:only-of-type {\n",
              "        vertical-align: middle;\n",
              "    }\n",
              "\n",
              "    .dataframe tbody tr th {\n",
              "        vertical-align: top;\n",
              "    }\n",
              "\n",
              "    .dataframe thead th {\n",
              "        text-align: right;\n",
              "    }\n",
              "</style>\n",
              "<table border=\"1\" class=\"dataframe\">\n",
              "  <thead>\n",
              "    <tr style=\"text-align: right;\">\n",
              "      <th></th>\n",
              "      <th>Open</th>\n",
              "      <th>High</th>\n",
              "      <th>Low</th>\n",
              "      <th>Volume</th>\n",
              "      <th>Adj Close</th>\n",
              "    </tr>\n",
              "    <tr>\n",
              "      <th>Date</th>\n",
              "      <th></th>\n",
              "      <th></th>\n",
              "      <th></th>\n",
              "      <th></th>\n",
              "      <th></th>\n",
              "    </tr>\n",
              "  </thead>\n",
              "  <tbody>\n",
              "    <tr>\n",
              "      <th>2008-08-08</th>\n",
              "      <td>11432.089844</td>\n",
              "      <td>11759.959961</td>\n",
              "      <td>11388.040039</td>\n",
              "      <td>212830000</td>\n",
              "      <td>11734.320312</td>\n",
              "    </tr>\n",
              "    <tr>\n",
              "      <th>2008-08-11</th>\n",
              "      <td>11729.669922</td>\n",
              "      <td>11867.110352</td>\n",
              "      <td>11675.530273</td>\n",
              "      <td>183190000</td>\n",
              "      <td>11782.349609</td>\n",
              "    </tr>\n",
              "  </tbody>\n",
              "</table>\n",
              "</div>"
            ],
            "text/plain": [
              "                    Open          High           Low     Volume     Adj Close\n",
              "Date                                                                         \n",
              "2008-08-08  11432.089844  11759.959961  11388.040039  212830000  11734.320312\n",
              "2008-08-11  11729.669922  11867.110352  11675.530273  183190000  11782.349609"
            ]
          },
          "metadata": {}
        },
        {
          "output_type": "display_data",
          "data": {
            "text/html": [
              "<div>\n",
              "<style scoped>\n",
              "    .dataframe tbody tr th:only-of-type {\n",
              "        vertical-align: middle;\n",
              "    }\n",
              "\n",
              "    .dataframe tbody tr th {\n",
              "        vertical-align: top;\n",
              "    }\n",
              "\n",
              "    .dataframe thead th {\n",
              "        text-align: right;\n",
              "    }\n",
              "</style>\n",
              "<table border=\"1\" class=\"dataframe\">\n",
              "  <thead>\n",
              "    <tr style=\"text-align: right;\">\n",
              "      <th></th>\n",
              "      <th>Open</th>\n",
              "    </tr>\n",
              "    <tr>\n",
              "      <th>Date</th>\n",
              "      <th></th>\n",
              "    </tr>\n",
              "  </thead>\n",
              "  <tbody>\n",
              "    <tr>\n",
              "      <th>2008-08-08</th>\n",
              "      <td>11432.089844</td>\n",
              "    </tr>\n",
              "    <tr>\n",
              "      <th>2008-08-11</th>\n",
              "      <td>11729.669922</td>\n",
              "    </tr>\n",
              "  </tbody>\n",
              "</table>\n",
              "</div>"
            ],
            "text/plain": [
              "                    Open\n",
              "Date                    \n",
              "2008-08-08  11432.089844\n",
              "2008-08-11  11729.669922"
            ]
          },
          "metadata": {}
        },
        {
          "output_type": "display_data",
          "data": {
            "text/html": [
              "<div>\n",
              "<style scoped>\n",
              "    .dataframe tbody tr th:only-of-type {\n",
              "        vertical-align: middle;\n",
              "    }\n",
              "\n",
              "    .dataframe tbody tr th {\n",
              "        vertical-align: top;\n",
              "    }\n",
              "\n",
              "    .dataframe thead th {\n",
              "        text-align: right;\n",
              "    }\n",
              "</style>\n",
              "<table border=\"1\" class=\"dataframe\">\n",
              "  <thead>\n",
              "    <tr style=\"text-align: right;\">\n",
              "      <th></th>\n",
              "      <th>Adj Close</th>\n",
              "    </tr>\n",
              "    <tr>\n",
              "      <th>Date</th>\n",
              "      <th></th>\n",
              "    </tr>\n",
              "  </thead>\n",
              "  <tbody>\n",
              "    <tr>\n",
              "      <th>2008-08-08</th>\n",
              "      <td>11734.320312</td>\n",
              "    </tr>\n",
              "    <tr>\n",
              "      <th>2008-08-11</th>\n",
              "      <td>11782.349609</td>\n",
              "    </tr>\n",
              "  </tbody>\n",
              "</table>\n",
              "</div>"
            ],
            "text/plain": [
              "               Adj Close\n",
              "Date                    \n",
              "2008-08-08  11734.320312\n",
              "2008-08-11  11782.349609"
            ]
          },
          "metadata": {}
        }
      ]
    },
    {
      "cell_type": "code",
      "metadata": {
        "colab": {
          "base_uri": "https://localhost:8080/"
        },
        "id": "a6Tg6LI30DbA",
        "outputId": "e420da52-3fb9-4ec6-f422-c958990d6c42"
      },
      "source": [
        "# Data set preprocessing\n",
        "time_step = 60\n",
        "total_days = len(raw_y_open)\n",
        "raw_x = raw_x.values\n",
        "raw_y_open = raw_y_open.values\n",
        "raw_y_close = raw_y_close.values\n",
        "\n",
        "x = []\n",
        "y_open = []\n",
        "y_close = []\n",
        "\n",
        "for i in range(time_step, total_days):\n",
        "  x.append(raw_x[i-60:i])\n",
        "  y_open.append(raw_y_open[i])\n",
        "  y_close.append(raw_y_close[i])\n",
        "\n",
        "x = np.array(x)\n",
        "y_open = np.array(y_open)\n",
        "y_close = np.array(y_close)\n",
        "\n",
        "print(x.shape, y_open.shape, y_close.shape)"
      ],
      "execution_count": null,
      "outputs": [
        {
          "output_type": "stream",
          "name": "stdout",
          "text": [
            "(1929, 60, 5) (1929, 1) (1929, 1)\n"
          ]
        }
      ]
    },
    {
      "cell_type": "code",
      "metadata": {
        "id": "hDCipwRF3jHx"
      },
      "source": [
        "def split_test(array, spilt_day):\n",
        "    \n",
        "    train = array[:-spilt_day, :]\n",
        "    test = array[-spilt_day:, :]\n",
        "    \n",
        "    return train, test"
      ],
      "execution_count": null,
      "outputs": []
    },
    {
      "cell_type": "code",
      "metadata": {
        "colab": {
          "base_uri": "https://localhost:8080/"
        },
        "id": "kIXE7gnq4E5O",
        "outputId": "512bb48b-da94-429a-ee40-19cae933abde"
      },
      "source": [
        "split_day = 30\n",
        "x_train, x_test = split_test(x, split_day)\n",
        "y_open_train, y_open_test = split_test(y_open, split_day)\n",
        "y_close_train, y_close_test = split_test(y_close, split_day)\n",
        "\n",
        "print(x_train.shape, x_test.shape, y_open_train.shape, y_open_test.shape, y_close_train.shape, y_close_test.shape)"
      ],
      "execution_count": null,
      "outputs": [
        {
          "output_type": "stream",
          "name": "stdout",
          "text": [
            "(1899, 60, 5) (30, 60, 5) (1899, 1) (30, 1) (1899, 1) (30, 1)\n"
          ]
        }
      ]
    },
    {
      "cell_type": "code",
      "metadata": {
        "colab": {
          "base_uri": "https://localhost:8080/"
        },
        "id": "3-HFpO8B48PX",
        "outputId": "dd793fb0-2f90-422c-c518-2a95f4161d72"
      },
      "source": [
        "# Model definition\n",
        "\n",
        "# Hyperparameters\n",
        "dropout_rate = 0.5\n",
        "learning_rate = 0.0001\n",
        "\n",
        "open_price_inputs = tf.keras.Input(shape=(1,), name='open_price')\n",
        "inputs = tf.keras.Input(shape=(60, 5,), name='inputs')\n",
        "y = tf.keras.layers.LSTM(units=50, return_sequences=True)(inputs)\n",
        "y = tf.keras.layers.Dropout(dropout_rate)(y)\n",
        "# y = tf.keras.layers.BatchNormalization(axis=1)(y)\n",
        "y = tf.keras.layers.LSTM(units=50, return_sequences=True)(y)\n",
        "y = tf.keras.layers.Dropout(dropout_rate)(y)\n",
        "# y = tf.keras.layers.BatchNormalization(axis=1)(y)\n",
        "y = tf.keras.layers.LSTM(units=50)(y)\n",
        "y = tf.keras.layers.Dropout(dropout_rate)(y)\n",
        "# y = tf.keras.layers.BatchNormalization(axis=1)(y)\n",
        "y = tf.keras.layers.Dense(1)(y)\n",
        "y = tf.keras.layers.Multiply()([y, open_price_inputs])\n",
        "y = tf.keras.layers.Dense(100)(y)\n",
        "y = tf.keras.layers.Dropout(dropout_rate)(y)\n",
        "# y = tf.keras.layers.BatchNormalization(axis=1)(y)\n",
        "y = tf.keras.layers.Dense(1)(y)\n",
        "\n",
        "LSTM_Model = tf.keras.Model(inputs=[inputs, open_price_inputs], outputs=y, name=\"LSTM_Model\")\n",
        "LSTM_Model.summary()"
      ],
      "execution_count": null,
      "outputs": [
        {
          "output_type": "stream",
          "name": "stdout",
          "text": [
            "Model: \"LSTM_Model\"\n",
            "__________________________________________________________________________________________________\n",
            "Layer (type)                    Output Shape         Param #     Connected to                     \n",
            "==================================================================================================\n",
            "inputs (InputLayer)             [(None, 60, 5)]      0                                            \n",
            "__________________________________________________________________________________________________\n",
            "lstm_3 (LSTM)                   (None, 60, 50)       11200       inputs[0][0]                     \n",
            "__________________________________________________________________________________________________\n",
            "dropout_4 (Dropout)             (None, 60, 50)       0           lstm_3[0][0]                     \n",
            "__________________________________________________________________________________________________\n",
            "lstm_4 (LSTM)                   (None, 60, 50)       20200       dropout_4[0][0]                  \n",
            "__________________________________________________________________________________________________\n",
            "dropout_5 (Dropout)             (None, 60, 50)       0           lstm_4[0][0]                     \n",
            "__________________________________________________________________________________________________\n",
            "lstm_5 (LSTM)                   (None, 50)           20200       dropout_5[0][0]                  \n",
            "__________________________________________________________________________________________________\n",
            "dropout_6 (Dropout)             (None, 50)           0           lstm_5[0][0]                     \n",
            "__________________________________________________________________________________________________\n",
            "dense_3 (Dense)                 (None, 1)            51          dropout_6[0][0]                  \n",
            "__________________________________________________________________________________________________\n",
            "open_price (InputLayer)         [(None, 1)]          0                                            \n",
            "__________________________________________________________________________________________________\n",
            "multiply_1 (Multiply)           (None, 1)            0           dense_3[0][0]                    \n",
            "                                                                 open_price[0][0]                 \n",
            "__________________________________________________________________________________________________\n",
            "dense_4 (Dense)                 (None, 100)          200         multiply_1[0][0]                 \n",
            "__________________________________________________________________________________________________\n",
            "dropout_7 (Dropout)             (None, 100)          0           dense_4[0][0]                    \n",
            "__________________________________________________________________________________________________\n",
            "dense_5 (Dense)                 (None, 1)            101         dropout_7[0][0]                  \n",
            "==================================================================================================\n",
            "Total params: 51,952\n",
            "Trainable params: 51,952\n",
            "Non-trainable params: 0\n",
            "__________________________________________________________________________________________________\n"
          ]
        }
      ]
    },
    {
      "cell_type": "code",
      "metadata": {
        "id": "WlrSkVIQ8e90"
      },
      "source": [
        "def RootMeanSquaredError(y_actual, y_predict):\n",
        "  mse = tf.keras.losses.MeanSquaredError()\n",
        "  return tf.sqrt(mse(y_actual, y_predict))\n",
        "\n",
        "LSTM_Model.compile(\n",
        "    loss=RootMeanSquaredError,\n",
        "    optimizer=tf.keras.optimizers.Adam(learning_rate=learning_rate),\n",
        "    metrics=[tf.keras.metrics.RootMeanSquaredError()])"
      ],
      "execution_count": null,
      "outputs": []
    },
    {
      "cell_type": "code",
      "metadata": {
        "colab": {
          "base_uri": "https://localhost:8080/"
        },
        "id": "FM-YedFO82zU",
        "outputId": "90d60fe5-18f3-4083-93fb-d1228d9de905"
      },
      "source": [
        "history = LSTM_Model.fit({'inputs': x_train, 'open_price': y_open_train}, y_close_train, batch_size=16, epochs=50, validation_split=0.1, verbose=1)"
      ],
      "execution_count": null,
      "outputs": [
        {
          "output_type": "stream",
          "name": "stdout",
          "text": [
            "Epoch 1/50\n",
            "107/107 [==============================] - 5s 19ms/step - loss: 13239.3516 - root_mean_squared_error: 13266.0518 - val_loss: 14663.6133 - val_root_mean_squared_error: 14673.5195\n",
            "Epoch 2/50\n",
            "107/107 [==============================] - 1s 11ms/step - loss: 7279.0591 - root_mean_squared_error: 7591.4731 - val_loss: 1078.3065 - val_root_mean_squared_error: 1079.5470\n",
            "Epoch 3/50\n",
            "107/107 [==============================] - 1s 11ms/step - loss: 5429.7837 - root_mean_squared_error: 5556.7803 - val_loss: 198.5820 - val_root_mean_squared_error: 211.3567\n",
            "Epoch 4/50\n",
            "107/107 [==============================] - 1s 11ms/step - loss: 4739.9673 - root_mean_squared_error: 4821.8247 - val_loss: 194.9030 - val_root_mean_squared_error: 201.3496\n",
            "Epoch 5/50\n",
            "107/107 [==============================] - 1s 11ms/step - loss: 4484.9888 - root_mean_squared_error: 4558.7827 - val_loss: 165.4669 - val_root_mean_squared_error: 179.5498\n",
            "Epoch 6/50\n",
            "107/107 [==============================] - 1s 11ms/step - loss: 4166.5542 - root_mean_squared_error: 4244.2134 - val_loss: 375.9094 - val_root_mean_squared_error: 380.8573\n",
            "Epoch 7/50\n",
            "107/107 [==============================] - 1s 11ms/step - loss: 3974.8618 - root_mean_squared_error: 4038.9705 - val_loss: 370.1000 - val_root_mean_squared_error: 375.1717\n",
            "Epoch 8/50\n",
            "107/107 [==============================] - 1s 11ms/step - loss: 3850.8950 - root_mean_squared_error: 3905.4534 - val_loss: 184.1605 - val_root_mean_squared_error: 192.1778\n",
            "Epoch 9/50\n",
            "107/107 [==============================] - 1s 11ms/step - loss: 3771.4529 - root_mean_squared_error: 3841.2639 - val_loss: 760.4967 - val_root_mean_squared_error: 761.4810\n",
            "Epoch 10/50\n",
            "107/107 [==============================] - 1s 12ms/step - loss: 3596.4585 - root_mean_squared_error: 3659.7275 - val_loss: 592.6696 - val_root_mean_squared_error: 593.4906\n",
            "Epoch 11/50\n",
            "107/107 [==============================] - 1s 11ms/step - loss: 3708.3481 - root_mean_squared_error: 3796.4072 - val_loss: 804.6276 - val_root_mean_squared_error: 806.3027\n",
            "Epoch 12/50\n",
            "107/107 [==============================] - 1s 11ms/step - loss: 3469.8877 - root_mean_squared_error: 3539.2764 - val_loss: 986.8499 - val_root_mean_squared_error: 988.2414\n",
            "Epoch 13/50\n",
            "107/107 [==============================] - 1s 11ms/step - loss: 3416.1614 - root_mean_squared_error: 3477.9790 - val_loss: 189.0806 - val_root_mean_squared_error: 196.3172\n",
            "Epoch 14/50\n",
            "107/107 [==============================] - 1s 12ms/step - loss: 3293.3894 - root_mean_squared_error: 3348.1936 - val_loss: 316.5368 - val_root_mean_squared_error: 323.0309\n",
            "Epoch 15/50\n",
            "107/107 [==============================] - 1s 11ms/step - loss: 3184.8958 - root_mean_squared_error: 3259.4158 - val_loss: 576.4931 - val_root_mean_squared_error: 579.0580\n",
            "Epoch 16/50\n",
            "107/107 [==============================] - 1s 11ms/step - loss: 3299.7744 - root_mean_squared_error: 3372.3430 - val_loss: 646.9399 - val_root_mean_squared_error: 649.1244\n",
            "Epoch 17/50\n",
            "107/107 [==============================] - 1s 11ms/step - loss: 3201.3550 - root_mean_squared_error: 3252.8501 - val_loss: 195.7605 - val_root_mean_squared_error: 202.0987\n",
            "Epoch 18/50\n",
            "107/107 [==============================] - 1s 11ms/step - loss: 3130.0217 - root_mean_squared_error: 3190.8679 - val_loss: 387.8887 - val_root_mean_squared_error: 388.6837\n",
            "Epoch 19/50\n",
            "107/107 [==============================] - 1s 11ms/step - loss: 3010.5491 - root_mean_squared_error: 3068.3230 - val_loss: 165.4038 - val_root_mean_squared_error: 179.4420\n",
            "Epoch 20/50\n",
            "107/107 [==============================] - 1s 11ms/step - loss: 3137.4487 - root_mean_squared_error: 3185.7236 - val_loss: 172.4479 - val_root_mean_squared_error: 187.0457\n",
            "Epoch 21/50\n",
            "107/107 [==============================] - 1s 11ms/step - loss: 2894.5383 - root_mean_squared_error: 2939.8577 - val_loss: 781.1376 - val_root_mean_squared_error: 782.8677\n",
            "Epoch 22/50\n",
            "107/107 [==============================] - 1s 11ms/step - loss: 2874.0801 - root_mean_squared_error: 2918.5771 - val_loss: 165.6270 - val_root_mean_squared_error: 179.8044\n",
            "Epoch 23/50\n",
            "107/107 [==============================] - 1s 11ms/step - loss: 2831.6272 - root_mean_squared_error: 2898.7634 - val_loss: 705.3492 - val_root_mean_squared_error: 707.3018\n",
            "Epoch 24/50\n",
            "107/107 [==============================] - 1s 11ms/step - loss: 2785.3491 - root_mean_squared_error: 2845.8289 - val_loss: 632.8010 - val_root_mean_squared_error: 635.0516\n",
            "Epoch 25/50\n",
            "107/107 [==============================] - 1s 11ms/step - loss: 2776.5505 - root_mean_squared_error: 2828.6160 - val_loss: 167.9523 - val_root_mean_squared_error: 179.9112\n",
            "Epoch 26/50\n",
            "107/107 [==============================] - 1s 11ms/step - loss: 2692.2012 - root_mean_squared_error: 2734.2114 - val_loss: 245.9386 - val_root_mean_squared_error: 248.6600\n",
            "Epoch 27/50\n",
            "107/107 [==============================] - 1s 11ms/step - loss: 2612.5964 - root_mean_squared_error: 2658.2454 - val_loss: 166.5582 - val_root_mean_squared_error: 180.9957\n",
            "Epoch 28/50\n",
            "107/107 [==============================] - 1s 12ms/step - loss: 2706.6003 - root_mean_squared_error: 2768.0017 - val_loss: 183.6108 - val_root_mean_squared_error: 197.5468\n",
            "Epoch 29/50\n",
            "107/107 [==============================] - 1s 11ms/step - loss: 2778.7046 - root_mean_squared_error: 2820.1880 - val_loss: 176.4096 - val_root_mean_squared_error: 185.9402\n",
            "Epoch 30/50\n",
            "107/107 [==============================] - 1s 11ms/step - loss: 2658.4028 - root_mean_squared_error: 2710.2563 - val_loss: 225.2571 - val_root_mean_squared_error: 236.0863\n",
            "Epoch 31/50\n",
            "107/107 [==============================] - 1s 11ms/step - loss: 2618.9441 - root_mean_squared_error: 2683.4297 - val_loss: 306.2039 - val_root_mean_squared_error: 313.0457\n",
            "Epoch 32/50\n",
            "107/107 [==============================] - 1s 11ms/step - loss: 2519.2100 - root_mean_squared_error: 2577.4675 - val_loss: 292.9199 - val_root_mean_squared_error: 300.2509\n",
            "Epoch 33/50\n",
            "107/107 [==============================] - 1s 11ms/step - loss: 2514.1562 - root_mean_squared_error: 2559.0454 - val_loss: 374.2389 - val_root_mean_squared_error: 375.0714\n",
            "Epoch 34/50\n",
            "107/107 [==============================] - 1s 11ms/step - loss: 2608.6018 - root_mean_squared_error: 2662.6099 - val_loss: 283.0301 - val_root_mean_squared_error: 284.6990\n",
            "Epoch 35/50\n",
            "107/107 [==============================] - 1s 11ms/step - loss: 2491.2673 - root_mean_squared_error: 2540.5298 - val_loss: 173.3380 - val_root_mean_squared_error: 187.9057\n",
            "Epoch 36/50\n",
            "107/107 [==============================] - 1s 11ms/step - loss: 2372.8013 - root_mean_squared_error: 2419.8184 - val_loss: 232.0051 - val_root_mean_squared_error: 242.3946\n",
            "Epoch 37/50\n",
            "107/107 [==============================] - 1s 11ms/step - loss: 2419.1245 - root_mean_squared_error: 2456.2307 - val_loss: 437.8693 - val_root_mean_squared_error: 441.7587\n",
            "Epoch 38/50\n",
            "107/107 [==============================] - 1s 11ms/step - loss: 2447.4199 - root_mean_squared_error: 2499.5615 - val_loss: 253.4237 - val_root_mean_squared_error: 255.8660\n",
            "Epoch 39/50\n",
            "107/107 [==============================] - 1s 11ms/step - loss: 2393.3005 - root_mean_squared_error: 2436.9941 - val_loss: 371.8406 - val_root_mean_squared_error: 372.6810\n",
            "Epoch 40/50\n",
            "107/107 [==============================] - 1s 11ms/step - loss: 2407.0002 - root_mean_squared_error: 2446.4019 - val_loss: 383.8787 - val_root_mean_squared_error: 384.6834\n",
            "Epoch 41/50\n",
            "107/107 [==============================] - 1s 11ms/step - loss: 2370.1606 - root_mean_squared_error: 2408.3616 - val_loss: 175.7625 - val_root_mean_squared_error: 185.4395\n",
            "Epoch 42/50\n",
            "107/107 [==============================] - 1s 11ms/step - loss: 2356.5537 - root_mean_squared_error: 2397.1968 - val_loss: 369.7973 - val_root_mean_squared_error: 374.8770\n",
            "Epoch 43/50\n",
            "107/107 [==============================] - 1s 11ms/step - loss: 2292.0261 - root_mean_squared_error: 2330.7786 - val_loss: 206.9065 - val_root_mean_squared_error: 212.0493\n",
            "Epoch 44/50\n",
            "107/107 [==============================] - 1s 11ms/step - loss: 2228.8333 - root_mean_squared_error: 2270.5344 - val_loss: 189.5345 - val_root_mean_squared_error: 196.6999\n",
            "Epoch 45/50\n",
            "107/107 [==============================] - 1s 11ms/step - loss: 2303.5476 - root_mean_squared_error: 2356.8643 - val_loss: 417.7314 - val_root_mean_squared_error: 421.9199\n",
            "Epoch 46/50\n",
            "107/107 [==============================] - 1s 11ms/step - loss: 2253.6919 - root_mean_squared_error: 2291.5461 - val_loss: 184.1710 - val_root_mean_squared_error: 192.1808\n",
            "Epoch 47/50\n",
            "107/107 [==============================] - 1s 11ms/step - loss: 2182.3672 - root_mean_squared_error: 2220.3975 - val_loss: 192.0969 - val_root_mean_squared_error: 205.3851\n",
            "Epoch 48/50\n",
            "107/107 [==============================] - 1s 11ms/step - loss: 2202.5007 - root_mean_squared_error: 2244.2244 - val_loss: 167.2560 - val_root_mean_squared_error: 181.7882\n",
            "Epoch 49/50\n",
            "107/107 [==============================] - 1s 12ms/step - loss: 2146.3403 - root_mean_squared_error: 2180.5422 - val_loss: 292.6474 - val_root_mean_squared_error: 299.9903\n",
            "Epoch 50/50\n",
            "107/107 [==============================] - 1s 11ms/step - loss: 2176.8052 - root_mean_squared_error: 2215.8311 - val_loss: 180.6316 - val_root_mean_squared_error: 194.7829\n"
          ]
        }
      ]
    },
    {
      "cell_type": "code",
      "metadata": {
        "colab": {
          "base_uri": "https://localhost:8080/",
          "height": 621
        },
        "id": "7cGBfFH7hEhx",
        "outputId": "b2fe5dd1-5c2d-47c2-ec2c-e5dbd03fc27c"
      },
      "source": [
        "# summarize history for loss\n",
        "plt.figure(figsize=(15,10))\n",
        "plt.plot(history.history['loss'])\n",
        "plt.plot(history.history['val_loss'])\n",
        "plt.title('LSTM_Model loss')\n",
        "plt.ylabel('loss')\n",
        "plt.xlabel('epoch')\n",
        "plt.legend(['train loss', 'valid loss'], loc='upper right')\n",
        "plt.show()"
      ],
      "execution_count": null,
      "outputs": [
        {
          "output_type": "display_data",
          "data": {
            "image/png": "[encoded data removed]",
            "text/plain": [
              "<Figure size 1080x720 with 1 Axes>"
            ]
          },
          "metadata": {
            "needs_background": "light"
          }
        }
      ]
    },
    {
      "cell_type": "code",
      "metadata": {
        "colab": {
          "base_uri": "https://localhost:8080/",
          "height": 607
        },
        "id": "fUdq8dTL9xaE",
        "outputId": "4793f3cb-9a5b-4dbb-d95a-0d5ec0d8ae4f"
      },
      "source": [
        "background = raw['Adj Close'].iloc[-100:].to_frame()\n",
        "background.index = np.arange(100)\n",
        "predicted_close_price = LSTM_Model.predict([x_test, y_open_test])\n",
        "predicted_close_price = np.concatenate([background.values[:70], predicted_close_price], axis=0)\n",
        "\n",
        "# plot acutal vs prediction\n",
        "plt.figure(figsize=(15,10))\n",
        "plt.plot(predicted_close_price)\n",
        "plt.plot(background)\n",
        "plt.title('acutal vs prediction')\n",
        "# plt.ylabel('predicted_close_price')\n",
        "# plt.xlabel('epoch')\n",
        "plt.legend(['predicted', 'actual'], loc='upper right')\n",
        "plt.show()"
      ],
      "execution_count": null,
      "outputs": [
        {
          "output_type": "display_data",
          "data": {
            "image/png": "[encoded data removed]",
            "text/plain": [
              "<Figure size 1080x720 with 1 Axes>"
            ]
          },
          "metadata": {
            "needs_background": "light"
          }
        }
      ]
    },
    {
      "cell_type": "code",
      "metadata": {
        "colab": {
          "base_uri": "https://localhost:8080/"
        },
        "id": "5OGdhngj3wEM",
        "outputId": "27d91436-cb33-491c-a63d-23ad224bb770"
      },
      "source": [
        "LSTM_Model.save(\"./djia_lstm_model\")"
      ],
      "execution_count": null,
      "outputs": [
        {
          "output_type": "stream",
          "name": "stderr",
          "text": [
            "WARNING:absl:Found untraced functions such as lstm_cell_3_layer_call_fn, lstm_cell_3_layer_call_and_return_conditional_losses, lstm_cell_4_layer_call_fn, lstm_cell_4_layer_call_and_return_conditional_losses, lstm_cell_5_layer_call_fn while saving (showing 5 of 15). These functions will not be directly callable after loading.\n"
          ]
        },
        {
          "output_type": "stream",
          "name": "stdout",
          "text": [
            "INFO:tensorflow:Assets written to: ./djia_lstm_model/assets\n"
          ]
        },
        {
          "output_type": "stream",
          "name": "stderr",
          "text": [
            "INFO:tensorflow:Assets written to: ./djia_lstm_model/assets\n"
          ]
        }
      ]
    },
    {
      "cell_type": "code",
      "metadata": {
        "colab": {
          "base_uri": "https://localhost:8080/"
        },
        "id": "A_chrKMI3nZj",
        "outputId": "95c3b486-9799-4830-977a-f04bab327a48"
      },
      "source": [
        "!zip -r djia_lstm.zip ./djia_lstm_model"
      ],
      "execution_count": null,
      "outputs": [
        {
          "output_type": "stream",
          "name": "stdout",
          "text": [
            "updating: djia_lstm_model/ (stored 0%)\n",
            "updating: djia_lstm_model/keras_metadata.pb (deflated 92%)\n",
            "updating: djia_lstm_model/saved_model.pb (deflated 90%)\n",
            "updating: djia_lstm_model/assets/ (stored 0%)\n",
            "updating: djia_lstm_model/variables/ (stored 0%)\n",
            "updating: djia_lstm_model/variables/variables.data-00000-of-00001 (deflated 30%)\n",
            "updating: djia_lstm_model/variables/variables.index (deflated 69%)\n"
          ]
        }
      ]
    },
    {
      "cell_type": "code",
      "metadata": {
        "id": "6IafbelverzX"
      },
      "source": [
        "# Areas of improvement: (2021-09-02)\n",
        "# Use more sofisticated architecture/try out new techniques eg. deep RNN, GRU, diminishing learning rate, RMSprop, cross-validation\n",
        "# Next-30-days prediction (sliding window)"
      ],
      "execution_count": null,
      "outputs": []
    }
  ]
}